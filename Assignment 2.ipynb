{
 "cells": [
  {
   "cell_type": "markdown",
   "id": "465c61e4",
   "metadata": {},
   "source": [
    "### What are the two values of the Boolean data type? How do you write them?"
   ]
  },
  {
   "cell_type": "markdown",
   "id": "456e01a2",
   "metadata": {},
   "source": [
    "   sol:-\n",
    "    1. True\n",
    "    2. False\n",
    "    where as,\n",
    "    true=1\n",
    "    false=0"
   ]
  },
  {
   "cell_type": "code",
   "execution_count": 2,
   "id": "cd872e28",
   "metadata": {},
   "outputs": [
    {
     "name": "stdout",
     "output_type": "stream",
     "text": [
      "True\n"
     ]
    }
   ],
   "source": [
    "#Example:\n",
    "print(19>9)"
   ]
  },
  {
   "cell_type": "code",
   "execution_count": 3,
   "id": "02c0e83b",
   "metadata": {},
   "outputs": [
    {
     "name": "stdout",
     "output_type": "stream",
     "text": [
      "False\n"
     ]
    }
   ],
   "source": [
    "print(111<9)"
   ]
  },
  {
   "cell_type": "markdown",
   "id": "383c5ae0",
   "metadata": {},
   "source": [
    "### What are the three different types of Boolean operators?\n"
   ]
  },
  {
   "cell_type": "markdown",
   "id": "e0d5355b",
   "metadata": {},
   "source": [
    "#### sol:-\n",
    "     1. and\n",
    "     2. or\n",
    "     3. not\n"
   ]
  },
  {
   "cell_type": "code",
   "execution_count": 4,
   "id": "6cff3f41",
   "metadata": {},
   "outputs": [
    {
     "name": "stdout",
     "output_type": "stream",
     "text": [
      "True\n"
     ]
    }
   ],
   "source": [
    "#example\n",
    "\n",
    "if 10>9 and 10>8:\n",
    "    print(True)"
   ]
  },
  {
   "cell_type": "code",
   "execution_count": 6,
   "id": "94e59aac",
   "metadata": {},
   "outputs": [
    {
     "name": "stdout",
     "output_type": "stream",
     "text": [
      "[100, 200, 300, 400]\n"
     ]
    }
   ],
   "source": [
    "j = [100,200,300,400]\n",
    "v = []\n",
    "for v in j:\n",
    "    if v not in j:\n",
    "        a.append(v)\n",
    "print(j)"
   ]
  },
  {
   "cell_type": "markdown",
   "id": "cafb308d",
   "metadata": {},
   "source": [
    "### Make a list of each Boolean operator's truth tables (i.e. every possible combination of Boolean values for the operator and what it evaluate)"
   ]
  },
  {
   "cell_type": "markdown",
   "id": "48853702",
   "metadata": {},
   "source": [
    "#### True == 1 and False == 0\n",
    "     x  y  x or y\n",
    "     0  0     0     \n",
    "     0  1     1\n",
    "     1  0     1\n",
    "     1  1     1\n",
    "     \n",
    "     x  y  x and y\n",
    "     0  0     0     \n",
    "     0  1     0\n",
    "     1  0     0\n",
    "     1  1     1"
   ]
  },
  {
   "cell_type": "markdown",
   "id": "f810adb9",
   "metadata": {},
   "source": [
    "### What are the values of the following expressions?"
   ]
  },
  {
   "cell_type": "raw",
   "id": "81b53eb9",
   "metadata": {},
   "source": [
    "sol:-\n",
    "    (5 > 4) and (3 == 5)--> False\n",
    "    not(5>4)--> False\n",
    "    (5>4)or(3==5)--> True\n",
    "    not ((5 > 4) or (3 == 5))--> False\n",
    "    (True and True) and (True == False)--> False\n",
    "    (not False) or (not True)--> True"
   ]
  },
  {
   "cell_type": "markdown",
   "id": "f65a5080",
   "metadata": {},
   "source": [
    "### What are the six comparison operators?"
   ]
  },
  {
   "cell_type": "raw",
   "id": "16075da3",
   "metadata": {},
   "source": [
    "    1.!= not equal to\n",
    "    2.< greater than\n",
    "    3.> less than\n",
    "    4. <= less than equal to\n",
    "    5. >= greater than equal to\n",
    "    6. == equal to"
   ]
  },
  {
   "cell_type": "markdown",
   "id": "925e1d6c",
   "metadata": {},
   "source": [
    "### How do you tell the difference between the equal to and assignment operators?Describe a condition and when you would use one?"
   ]
  },
  {
   "cell_type": "raw",
   "id": "b4091b38",
   "metadata": {},
   "source": [
    "    == is equal to i.e double = sign\n",
    "    = is assignment operator"
   ]
  },
  {
   "cell_type": "code",
   "execution_count": 9,
   "id": "a489027b",
   "metadata": {},
   "outputs": [
    {
     "name": "stdout",
     "output_type": "stream",
     "text": [
      "True\n"
     ]
    }
   ],
   "source": [
    "# example of assignment operator\n",
    "a = 10\n",
    "b = 10  \n",
    "\n",
    "# example of equal operator\n",
    "if a==b:\n",
    "    print(True)"
   ]
  },
  {
   "cell_type": "markdown",
   "id": "75ac58b9",
   "metadata": {},
   "source": [
    "### Identify the three blocks in this code:"
   ]
  },
  {
   "cell_type": "code",
   "execution_count": 10,
   "id": "ec7f1449",
   "metadata": {},
   "outputs": [
    {
     "name": "stdout",
     "output_type": "stream",
     "text": [
      "spam\n"
     ]
    }
   ],
   "source": [
    "spam = 0\n",
    "if spam == 10:\n",
    "    print('eggs')   \n",
    "    if spam > 5:    \n",
    "        print('bacon')\n",
    "    else:\n",
    "        print('ham')\n",
    "    print('spam')\n",
    "print('spam')"
   ]
  },
  {
   "cell_type": "markdown",
   "id": "cb7fa4f9",
   "metadata": {},
   "source": [
    "### Write code that prints Hello if 1 is stored in spam, prints Howdy if 2 is stored in spam, and prints greetings! if anything else is stored in spam."
   ]
  },
  {
   "cell_type": "code",
   "execution_count": 11,
   "id": "bbc7f418",
   "metadata": {},
   "outputs": [
    {
     "name": "stdout",
     "output_type": "stream",
     "text": [
      "1\n",
      "Hello\n"
     ]
    }
   ],
   "source": [
    "spam = int(input())\n",
    "\n",
    "if spam==1:\n",
    "    print(\"Hello\")\n",
    "elif spam==2:\n",
    "    print(\"Howdy\")\n",
    "else:\n",
    "    print(\"Greetings!\")"
   ]
  },
  {
   "cell_type": "code",
   "execution_count": 12,
   "id": "4a987042",
   "metadata": {},
   "outputs": [
    {
     "name": "stdout",
     "output_type": "stream",
     "text": [
      "2\n",
      "Howdy\n"
     ]
    }
   ],
   "source": [
    "spam = int(input())\n",
    "\n",
    "if spam==1:\n",
    "    print(\"Hello\")\n",
    "elif spam==2:\n",
    "    print(\"Howdy\")\n",
    "else:\n",
    "    print(\"Greetings!\")"
   ]
  },
  {
   "cell_type": "code",
   "execution_count": 13,
   "id": "14157ab7",
   "metadata": {},
   "outputs": [
    {
     "name": "stdout",
     "output_type": "stream",
     "text": [
      "3\n",
      "Greetings!\n"
     ]
    }
   ],
   "source": [
    "spam = int(input())\n",
    "\n",
    "if spam==1:\n",
    "    print(\"Hello\")\n",
    "elif spam==2:\n",
    "    print(\"Howdy\")\n",
    "else:\n",
    "    print(\"Greetings!\")"
   ]
  },
  {
   "cell_type": "markdown",
   "id": "7b7a7291",
   "metadata": {},
   "source": [
    "### How can you tell the difference between break and continue?"
   ]
  },
  {
   "cell_type": "code",
   "execution_count": 14,
   "id": "e6440f13",
   "metadata": {},
   "outputs": [
    {
     "name": "stdout",
     "output_type": "stream",
     "text": [
      "0\n",
      "1\n",
      "2\n",
      "3\n",
      "4\n"
     ]
    }
   ],
   "source": [
    "#example of break:\n",
    "for v in range(15):\n",
    "    if v==5:\n",
    "        break\n",
    "    print(v)"
   ]
  },
  {
   "cell_type": "code",
   "execution_count": 15,
   "id": "5701d07d",
   "metadata": {},
   "outputs": [
    {
     "name": "stdout",
     "output_type": "stream",
     "text": [
      "10\n",
      "20\n",
      "40\n",
      "50\n"
     ]
    }
   ],
   "source": [
    "l = [10,20,30,40,50]\n",
    "for g in l:\n",
    "    if g==30:\n",
    "        continue\n",
    "    print(g)"
   ]
  },
  {
   "cell_type": "markdown",
   "id": "0cb1297a",
   "metadata": {},
   "source": [
    "### In a for loop, what is the difference between range(10), range(0, 10), and range(0, 10, 1)?"
   ]
  },
  {
   "cell_type": "raw",
   "id": "eccfd54a",
   "metadata": {},
   "source": [
    "sol:-\n",
    "    range(10) and range(0,10) are same because the both give numbers from 0 to 9. Also if range(0,10,1) give same output starting from 0 with increment of 1 upto 9"
   ]
  },
  {
   "cell_type": "markdown",
   "id": "0e2ed944",
   "metadata": {},
   "source": [
    "### Write a short program that prints the numbers 1 to 10 using a for loop. Then write an equivalent program that prints the numbers 1 to 10 using a while loop."
   ]
  },
  {
   "cell_type": "code",
   "execution_count": 16,
   "id": "8b54a6dd",
   "metadata": {},
   "outputs": [
    {
     "name": "stdout",
     "output_type": "stream",
     "text": [
      "1\n",
      "2\n",
      "3\n",
      "4\n",
      "5\n",
      "6\n",
      "7\n",
      "8\n",
      "9\n",
      "10\n"
     ]
    }
   ],
   "source": [
    "#for loop:\n",
    "\n",
    "for i in range(1,11):\n",
    "    print(i)"
   ]
  },
  {
   "cell_type": "code",
   "execution_count": 17,
   "id": "c267fd7e",
   "metadata": {},
   "outputs": [
    {
     "name": "stdout",
     "output_type": "stream",
     "text": [
      "1\n",
      "2\n",
      "3\n",
      "4\n",
      "5\n",
      "6\n",
      "7\n",
      "8\n",
      "9\n",
      "10\n"
     ]
    }
   ],
   "source": [
    "#while loop:\n",
    "i = 1\n",
    "while i>0 and i<=10:\n",
    "    print(i)\n",
    "    i = i+1"
   ]
  },
  {
   "cell_type": "markdown",
   "id": "4f5fa2bf",
   "metadata": {},
   "source": [
    "### If you had a function named bacon() inside a module named spam, how would you call it after importing spam?"
   ]
  },
  {
   "cell_type": "raw",
   "id": "00838fe6",
   "metadata": {},
   "source": [
    "spam.bacon() "
   ]
  }
 ],
 "metadata": {
  "kernelspec": {
   "display_name": "Python 3 (ipykernel)",
   "language": "python",
   "name": "python3"
  },
  "language_info": {
   "codemirror_mode": {
    "name": "ipython",
    "version": 3
   },
   "file_extension": ".py",
   "mimetype": "text/x-python",
   "name": "python",
   "nbconvert_exporter": "python",
   "pygments_lexer": "ipython3",
   "version": "3.10.6"
  }
 },
 "nbformat": 4,
 "nbformat_minor": 5
}
