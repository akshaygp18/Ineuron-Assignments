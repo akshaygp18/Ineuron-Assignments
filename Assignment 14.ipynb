{
 "cells": [
  {
   "cell_type": "markdown",
   "id": "21217f11",
   "metadata": {},
   "source": [
    "1. What does RGBA stand for?"
   ]
  },
  {
   "cell_type": "markdown",
   "id": "f227489a",
   "metadata": {},
   "source": [
    "Ans: RGBA is a four-channel format containing data for Red, Green, Blue, and an Alpha value. Where Alpha Represents the Opacity. Each value is a floating point number between 0.0 and 1.0. For example, the tuple (1, 0, 0, 1) represents an opaque red, while (0, 1, 0, 0.5) represents a half transparent green."
   ]
  },
  {
   "cell_type": "markdown",
   "id": "417fe641",
   "metadata": {},
   "source": [
    "2. From the Pillow module, how do you get the RGBA value of any images?"
   ]
  },
  {
   "cell_type": "markdown",
   "id": "7a6390ea",
   "metadata": {},
   "source": [
    "Ans: ImageColor.getcolor() gives rgba value of any image"
   ]
  },
  {
   "cell_type": "markdown",
   "id": "a4ead6eb",
   "metadata": {},
   "source": [
    "3. What is a box tuple, and how does it work?"
   ]
  },
  {
   "cell_type": "markdown",
   "id": "0f1f31e1",
   "metadata": {},
   "source": [
    "Ans: A box tuple is a tuple value of four integers: the left-edge x-coordinate, the top-edge y-coordinate,the width, and the height, respectively."
   ]
  },
  {
   "cell_type": "markdown",
   "id": "f9585e7c",
   "metadata": {},
   "source": [
    "4. Use your image and load in notebook then, How can you find out the width and height of an Image object?"
   ]
  },
  {
   "cell_type": "markdown",
   "id": "44d00f03",
   "metadata": {},
   "source": [
    "# Example Program\n",
    "from PIL import Image\n",
    "pic = Image.open('pic.jpg')\n",
    "print(f'Width, Height -> {pic.size}') # Approach 1\n",
    "print(f'Width, Height -> {pic.width},{pic.height}') # Approach 2\n",
    "width,height = pic.size\n",
    "print(f'Width, Height -> {width},{height}') # Approach 3"
   ]
  },
  {
   "cell_type": "markdown",
   "id": "8a364aaf",
   "metadata": {},
   "source": [
    "5. What method would you call to get Image object for a 100×100 image, excluding the lower-left quarter of it?"
   ]
  },
  {
   "cell_type": "markdown",
   "id": "7d77f7dd",
   "metadata": {},
   "source": [
    "from PIL import Image\n",
    "img = Image.open('Pic.jpg')\n",
    "new_img = img.crop((0,50,50,50))"
   ]
  },
  {
   "cell_type": "markdown",
   "id": "84c0aacc",
   "metadata": {},
   "source": [
    "6. After making changes to an Image object, how could you save it as an image file?"
   ]
  },
  {
   "cell_type": "markdown",
   "id": "c9ec609d",
   "metadata": {},
   "source": [
    "#Example Program\n",
    "from PIL import Image\n",
    "pic = Image.open('pic.jpg')\n",
    "pic.save('pic2.jpg')"
   ]
  },
  {
   "cell_type": "markdown",
   "id": "3cb9ba02",
   "metadata": {},
   "source": [
    "7. What module contains Pillow’s shape-drawing code?"
   ]
  },
  {
   "cell_type": "markdown",
   "id": "16b074da",
   "metadata": {},
   "source": [
    "Ans: Pillows ImageDraw module contains Shape drawing methods. The 'ImageDraw' module provides simple 2D graphics support for Image Object. Generally, we use this module to create new images, annotate or retouch existing images and to generate graphics on the fly for web use. The graphics commands support the drawing of shapes and annotation of text."
   ]
  },
  {
   "cell_type": "markdown",
   "id": "8cae116c",
   "metadata": {},
   "source": [
    "8. Image objects do not have drawing methods. What kind of object does? How do you get this kind of object?"
   ]
  },
  {
   "cell_type": "markdown",
   "id": "2302b732",
   "metadata": {},
   "source": [
    "Ans: ImageDraw objects have shape-drawing methods such as point(), line(), or rectangle().They are returned by passing the Image object to the ImageDraw.Draw() function."
   ]
  }
 ],
 "metadata": {
  "kernelspec": {
   "display_name": "Python 3 (ipykernel)",
   "language": "python",
   "name": "python3"
  },
  "language_info": {
   "codemirror_mode": {
    "name": "ipython",
    "version": 3
   },
   "file_extension": ".py",
   "mimetype": "text/x-python",
   "name": "python",
   "nbconvert_exporter": "python",
   "pygments_lexer": "ipython3",
   "version": "3.10.5"
  }
 },
 "nbformat": 4,
 "nbformat_minor": 5
}
